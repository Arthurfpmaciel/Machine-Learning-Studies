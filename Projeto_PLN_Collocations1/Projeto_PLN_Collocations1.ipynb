{
 "cells": [
  {
   "cell_type": "markdown",
   "id": "0d7fb754",
   "metadata": {},
   "source": [
    "Este projeto consiste no Lab 2 do capitulo de Processamento de Linguagem Natural do curso de Machine Learning da Data Science Academy."
   ]
  },
  {
   "cell_type": "markdown",
   "id": "a14afd3d",
   "metadata": {},
   "source": [
    "## Lab - Collocations e Processamento de Comentários de Avaliações de Hotéis"
   ]
  },
  {
   "cell_type": "markdown",
   "id": "e5148fbc",
   "metadata": {},
   "source": [
    "Collocations são duas ou mais palavras que tendem a aparecer frequentemente juntas, como \"Estados Unidos\", \"Rio Grande do Sul\" ou \"Machine Learning\". Essas palavras podem gerar diversas combinações e por isso o contexto também é importante no processamento de linguagem natural.\n",
    "\n",
    "Os dois tipos mais comuns de Collocations são bigramas e trigramas. Bigramas são duas palavras adjacentes, como \"tomografia computadorizada\" ou \"mídia social\". Trigramas são três palavras adjacentes, como \"fora do negócio\" ou \"Proctor and Gamble\"."
   ]
  },
  {
   "cell_type": "markdown",
   "id": "1f79ccc0",
   "metadata": {},
   "source": [
    "- Bigramas: (Nome, Nome), (Adjetivo, Nome)\n",
    "- Trigramas: (Adjetivo/Nome, Qualquer_Item, Adjetivo/Nome)"
   ]
  },
  {
   "cell_type": "markdown",
   "id": "ec27614b",
   "metadata": {},
   "source": [
    "Mas se escolhermos palavras adjacentes como bigrama ou trigramas, não obteremos frases significativas. Por exemplo, a frase 'Ele usa mídias sociais' contém bigramas: 'Ele usa', 'usa mídias', 'mídias sociais'. \"Ele usa\" e \"usa mídias\" não significa nada, enquanto \"mídias sociais\" é um bigrama significativo."
   ]
  },
  {
   "cell_type": "markdown",
   "id": "f821b252",
   "metadata": {},
   "source": [
    "### Definição do Problema\n",
    "\n",
    "Dado um conjunto de texto de avaliações (comentários) de hotéis, vamos buscar as Collocations mais relevantes que ajudam a explicar as avaliações!"
   ]
  },
  {
   "cell_type": "markdown",
   "id": "f68aa8a1",
   "metadata": {},
   "source": [
    "### Tratamento dos Dados"
   ]
  },
  {
   "cell_type": "code",
   "execution_count": 1,
   "id": "06e7a469",
   "metadata": {},
   "outputs": [],
   "source": [
    "# Imports\n",
    "import pandas as pd # versão 2.0.2\n",
    "import nltk # versão 3.6.1\n",
    "import spacy # versão 3.7.2\n",
    "import re # versão 2.2.1\n",
    "import string\n",
    "from nltk.corpus import stopwords"
   ]
  },
  {
   "cell_type": "code",
   "execution_count": 2,
   "id": "28209a69",
   "metadata": {},
   "outputs": [],
   "source": [
    "# Carregando dados de avaliações de hotéis\n",
    "# Fonte dos dados: https://datafiniti.co/products/business-data/\n",
    "avaliacoes_hoteis = pd.read_csv('https://raw.githubusercontent.com/dsacademybr/Datasets/master/dataset7.csv')"
   ]
  },
  {
   "cell_type": "code",
   "execution_count": 3,
   "id": "71f98121",
   "metadata": {},
   "outputs": [
    {
     "name": "stdout",
     "output_type": "stream",
     "text": [
      "(10000, 25)\n"
     ]
    },
    {
     "data": {
      "text/html": [
       "<div>\n",
       "<style scoped>\n",
       "    .dataframe tbody tr th:only-of-type {\n",
       "        vertical-align: middle;\n",
       "    }\n",
       "\n",
       "    .dataframe tbody tr th {\n",
       "        vertical-align: top;\n",
       "    }\n",
       "\n",
       "    .dataframe thead th {\n",
       "        text-align: right;\n",
       "    }\n",
       "</style>\n",
       "<table border=\"1\" class=\"dataframe\">\n",
       "  <thead>\n",
       "    <tr style=\"text-align: right;\">\n",
       "      <th></th>\n",
       "      <th>id</th>\n",
       "      <th>dateAdded</th>\n",
       "      <th>dateUpdated</th>\n",
       "      <th>address</th>\n",
       "      <th>categories</th>\n",
       "      <th>primaryCategories</th>\n",
       "      <th>city</th>\n",
       "      <th>country</th>\n",
       "      <th>keys</th>\n",
       "      <th>latitude</th>\n",
       "      <th>...</th>\n",
       "      <th>reviews.dateSeen</th>\n",
       "      <th>reviews.rating</th>\n",
       "      <th>reviews.sourceURLs</th>\n",
       "      <th>reviews.text</th>\n",
       "      <th>reviews.title</th>\n",
       "      <th>reviews.userCity</th>\n",
       "      <th>reviews.userProvince</th>\n",
       "      <th>reviews.username</th>\n",
       "      <th>sourceURLs</th>\n",
       "      <th>websites</th>\n",
       "    </tr>\n",
       "  </thead>\n",
       "  <tbody>\n",
       "    <tr>\n",
       "      <th>0</th>\n",
       "      <td>AVwc252WIN2L1WUfpqLP</td>\n",
       "      <td>2016-10-30T21:42:42Z</td>\n",
       "      <td>2018-09-10T21:06:27Z</td>\n",
       "      <td>5921 Valencia Cir</td>\n",
       "      <td>Hotels,Hotels and motels,Hotel and motel reser...</td>\n",
       "      <td>Accommodation &amp; Food Services</td>\n",
       "      <td>Rancho Santa Fe</td>\n",
       "      <td>US</td>\n",
       "      <td>us/ca/ranchosantafe/5921valenciacir/359754519</td>\n",
       "      <td>32.990959</td>\n",
       "      <td>...</td>\n",
       "      <td>2016-08-03T00:00:00Z,2016-07-26T00:00:00Z,2016...</td>\n",
       "      <td>5.0</td>\n",
       "      <td>https://www.hotels.com/hotel/125419/reviews%20/</td>\n",
       "      <td>Our experience at Rancho Valencia was absolute...</td>\n",
       "      <td>Best romantic vacation ever!!!!</td>\n",
       "      <td>NaN</td>\n",
       "      <td>NaN</td>\n",
       "      <td>Paula</td>\n",
       "      <td>http://www.hotels.com/ho125419/%25252525253Flo...</td>\n",
       "      <td>http://www.ranchovalencia.com</td>\n",
       "    </tr>\n",
       "    <tr>\n",
       "      <th>1</th>\n",
       "      <td>AVwc252WIN2L1WUfpqLP</td>\n",
       "      <td>2016-10-30T21:42:42Z</td>\n",
       "      <td>2018-09-10T21:06:27Z</td>\n",
       "      <td>5921 Valencia Cir</td>\n",
       "      <td>Hotels,Hotels and motels,Hotel and motel reser...</td>\n",
       "      <td>Accommodation &amp; Food Services</td>\n",
       "      <td>Rancho Santa Fe</td>\n",
       "      <td>US</td>\n",
       "      <td>us/ca/ranchosantafe/5921valenciacir/359754519</td>\n",
       "      <td>32.990959</td>\n",
       "      <td>...</td>\n",
       "      <td>2016-08-02T00:00:00Z,2016-08-26T00:00:00Z,2016...</td>\n",
       "      <td>5.0</td>\n",
       "      <td>https://www.hotels.com/hotel/125419/reviews%20/</td>\n",
       "      <td>Amazing place. Everyone was extremely warm and...</td>\n",
       "      <td>Sweet sweet serenity</td>\n",
       "      <td>NaN</td>\n",
       "      <td>NaN</td>\n",
       "      <td>D</td>\n",
       "      <td>http://www.hotels.com/ho125419/%25252525253Flo...</td>\n",
       "      <td>http://www.ranchovalencia.com</td>\n",
       "    </tr>\n",
       "    <tr>\n",
       "      <th>2</th>\n",
       "      <td>AVwc252WIN2L1WUfpqLP</td>\n",
       "      <td>2016-10-30T21:42:42Z</td>\n",
       "      <td>2018-09-10T21:06:27Z</td>\n",
       "      <td>5921 Valencia Cir</td>\n",
       "      <td>Hotels,Hotels and motels,Hotel and motel reser...</td>\n",
       "      <td>Accommodation &amp; Food Services</td>\n",
       "      <td>Rancho Santa Fe</td>\n",
       "      <td>US</td>\n",
       "      <td>us/ca/ranchosantafe/5921valenciacir/359754519</td>\n",
       "      <td>32.990959</td>\n",
       "      <td>...</td>\n",
       "      <td>2016-11-15T00:00:00Z,2016-08-23T00:00:00Z,2016...</td>\n",
       "      <td>5.0</td>\n",
       "      <td>https://www.hotels.com/hotel/125419/reviews%20/</td>\n",
       "      <td>We booked a 3 night stay at Rancho Valencia to...</td>\n",
       "      <td>Amazing Property and Experience</td>\n",
       "      <td>NaN</td>\n",
       "      <td>NaN</td>\n",
       "      <td>Ron</td>\n",
       "      <td>http://www.hotels.com/ho125419/%25252525253Flo...</td>\n",
       "      <td>http://www.ranchovalencia.com</td>\n",
       "    </tr>\n",
       "    <tr>\n",
       "      <th>3</th>\n",
       "      <td>AVwdOclqIN2L1WUfti38</td>\n",
       "      <td>2015-11-28T19:19:35Z</td>\n",
       "      <td>2018-09-10T21:06:16Z</td>\n",
       "      <td>7520 Teague Rd</td>\n",
       "      <td>Hotels,Hotels and motels,Travel agencies and b...</td>\n",
       "      <td>Accommodation &amp; Food Services</td>\n",
       "      <td>Hanover</td>\n",
       "      <td>US</td>\n",
       "      <td>us/md/hanover/7520teaguerd/-2043779672</td>\n",
       "      <td>39.155929</td>\n",
       "      <td>...</td>\n",
       "      <td>2016-05-21T00:00:00Z,2016-07-31T00:00:00Z</td>\n",
       "      <td>2.0</td>\n",
       "      <td>https://www.tripadvisor.com/Hotel_Review-g4118...</td>\n",
       "      <td>Currently in bed writing this for the past hr ...</td>\n",
       "      <td>Never again...beware, if you want sleep.</td>\n",
       "      <td>Richmond</td>\n",
       "      <td>VA</td>\n",
       "      <td>jaeem2016</td>\n",
       "      <td>http://www.yellowbook.com/profile/aloft-arunde...</td>\n",
       "      <td>http://www.starwoodhotels.com/alofthotels/prop...</td>\n",
       "    </tr>\n",
       "    <tr>\n",
       "      <th>4</th>\n",
       "      <td>AVwdOclqIN2L1WUfti38</td>\n",
       "      <td>2015-11-28T19:19:35Z</td>\n",
       "      <td>2018-09-10T21:06:16Z</td>\n",
       "      <td>7520 Teague Rd</td>\n",
       "      <td>Hotels,Hotels and motels,Travel agencies and b...</td>\n",
       "      <td>Accommodation &amp; Food Services</td>\n",
       "      <td>Hanover</td>\n",
       "      <td>US</td>\n",
       "      <td>us/md/hanover/7520teaguerd/-2043779672</td>\n",
       "      <td>39.155929</td>\n",
       "      <td>...</td>\n",
       "      <td>2016-07-31T00:00:00Z</td>\n",
       "      <td>5.0</td>\n",
       "      <td>https://www.tripadvisor.com/Hotel_Review-g4118...</td>\n",
       "      <td>I live in Md and the Aloft is my Home away fro...</td>\n",
       "      <td>ALWAYS GREAT STAY...</td>\n",
       "      <td>Laurel</td>\n",
       "      <td>MD</td>\n",
       "      <td>MamaNiaOne</td>\n",
       "      <td>http://www.yellowbook.com/profile/aloft-arunde...</td>\n",
       "      <td>http://www.starwoodhotels.com/alofthotels/prop...</td>\n",
       "    </tr>\n",
       "  </tbody>\n",
       "</table>\n",
       "<p>5 rows × 25 columns</p>\n",
       "</div>"
      ],
      "text/plain": [
       "                     id             dateAdded           dateUpdated  \\\n",
       "0  AVwc252WIN2L1WUfpqLP  2016-10-30T21:42:42Z  2018-09-10T21:06:27Z   \n",
       "1  AVwc252WIN2L1WUfpqLP  2016-10-30T21:42:42Z  2018-09-10T21:06:27Z   \n",
       "2  AVwc252WIN2L1WUfpqLP  2016-10-30T21:42:42Z  2018-09-10T21:06:27Z   \n",
       "3  AVwdOclqIN2L1WUfti38  2015-11-28T19:19:35Z  2018-09-10T21:06:16Z   \n",
       "4  AVwdOclqIN2L1WUfti38  2015-11-28T19:19:35Z  2018-09-10T21:06:16Z   \n",
       "\n",
       "             address                                         categories  \\\n",
       "0  5921 Valencia Cir  Hotels,Hotels and motels,Hotel and motel reser...   \n",
       "1  5921 Valencia Cir  Hotels,Hotels and motels,Hotel and motel reser...   \n",
       "2  5921 Valencia Cir  Hotels,Hotels and motels,Hotel and motel reser...   \n",
       "3     7520 Teague Rd  Hotels,Hotels and motels,Travel agencies and b...   \n",
       "4     7520 Teague Rd  Hotels,Hotels and motels,Travel agencies and b...   \n",
       "\n",
       "               primaryCategories             city country  \\\n",
       "0  Accommodation & Food Services  Rancho Santa Fe      US   \n",
       "1  Accommodation & Food Services  Rancho Santa Fe      US   \n",
       "2  Accommodation & Food Services  Rancho Santa Fe      US   \n",
       "3  Accommodation & Food Services          Hanover      US   \n",
       "4  Accommodation & Food Services          Hanover      US   \n",
       "\n",
       "                                            keys   latitude  ...  \\\n",
       "0  us/ca/ranchosantafe/5921valenciacir/359754519  32.990959  ...   \n",
       "1  us/ca/ranchosantafe/5921valenciacir/359754519  32.990959  ...   \n",
       "2  us/ca/ranchosantafe/5921valenciacir/359754519  32.990959  ...   \n",
       "3         us/md/hanover/7520teaguerd/-2043779672  39.155929  ...   \n",
       "4         us/md/hanover/7520teaguerd/-2043779672  39.155929  ...   \n",
       "\n",
       "                                    reviews.dateSeen reviews.rating  \\\n",
       "0  2016-08-03T00:00:00Z,2016-07-26T00:00:00Z,2016...            5.0   \n",
       "1  2016-08-02T00:00:00Z,2016-08-26T00:00:00Z,2016...            5.0   \n",
       "2  2016-11-15T00:00:00Z,2016-08-23T00:00:00Z,2016...            5.0   \n",
       "3          2016-05-21T00:00:00Z,2016-07-31T00:00:00Z            2.0   \n",
       "4                               2016-07-31T00:00:00Z            5.0   \n",
       "\n",
       "                                  reviews.sourceURLs  \\\n",
       "0    https://www.hotels.com/hotel/125419/reviews%20/   \n",
       "1    https://www.hotels.com/hotel/125419/reviews%20/   \n",
       "2    https://www.hotels.com/hotel/125419/reviews%20/   \n",
       "3  https://www.tripadvisor.com/Hotel_Review-g4118...   \n",
       "4  https://www.tripadvisor.com/Hotel_Review-g4118...   \n",
       "\n",
       "                                        reviews.text  \\\n",
       "0  Our experience at Rancho Valencia was absolute...   \n",
       "1  Amazing place. Everyone was extremely warm and...   \n",
       "2  We booked a 3 night stay at Rancho Valencia to...   \n",
       "3  Currently in bed writing this for the past hr ...   \n",
       "4  I live in Md and the Aloft is my Home away fro...   \n",
       "\n",
       "                              reviews.title reviews.userCity  \\\n",
       "0           Best romantic vacation ever!!!!              NaN   \n",
       "1                      Sweet sweet serenity              NaN   \n",
       "2           Amazing Property and Experience              NaN   \n",
       "3  Never again...beware, if you want sleep.         Richmond   \n",
       "4                      ALWAYS GREAT STAY...           Laurel   \n",
       "\n",
       "   reviews.userProvince reviews.username  \\\n",
       "0                   NaN            Paula   \n",
       "1                   NaN                D   \n",
       "2                   NaN              Ron   \n",
       "3                    VA        jaeem2016   \n",
       "4                    MD       MamaNiaOne   \n",
       "\n",
       "                                          sourceURLs  \\\n",
       "0  http://www.hotels.com/ho125419/%25252525253Flo...   \n",
       "1  http://www.hotels.com/ho125419/%25252525253Flo...   \n",
       "2  http://www.hotels.com/ho125419/%25252525253Flo...   \n",
       "3  http://www.yellowbook.com/profile/aloft-arunde...   \n",
       "4  http://www.yellowbook.com/profile/aloft-arunde...   \n",
       "\n",
       "                                            websites  \n",
       "0                      http://www.ranchovalencia.com  \n",
       "1                      http://www.ranchovalencia.com  \n",
       "2                      http://www.ranchovalencia.com  \n",
       "3  http://www.starwoodhotels.com/alofthotels/prop...  \n",
       "4  http://www.starwoodhotels.com/alofthotels/prop...  \n",
       "\n",
       "[5 rows x 25 columns]"
      ]
     },
     "execution_count": 3,
     "metadata": {},
     "output_type": "execute_result"
    }
   ],
   "source": [
    "# a tabela apresenta diferentes dados de avialiações de hoteis pelo mundo\n",
    "# para este projeto o que intereça é somente a coluna reviews.text que contem as avaliações comentadas\n",
    "print(avaliacoes_hoteis.shape)\n",
    "avaliacoes_hoteis.head(5)"
   ]
  },
  {
   "cell_type": "code",
   "execution_count": 4,
   "id": "dff61ff6",
   "metadata": {},
   "outputs": [],
   "source": [
    "# extraindo avaliações\n",
    "comentarios = avaliacoes_hoteis['reviews.text']\n",
    "# converter para o tipo string\n",
    "comentarios = comentarios.astype('str')"
   ]
  },
  {
   "cell_type": "code",
   "execution_count": 5,
   "id": "7ba5a878",
   "metadata": {},
   "outputs": [],
   "source": [
    "# função para remover caracteres no ascii\n",
    "def removeNoAscii(s):\n",
    "    return \"\".join(i for i in s if ord(i)<128)"
   ]
  },
  {
   "cell_type": "code",
   "execution_count": 6,
   "id": "946a0bfc",
   "metadata": {},
   "outputs": [],
   "source": [
    "# removendo caracteres no ascii\n",
    "comentarios = comentarios.map(lambda x: removeNoAscii(x))"
   ]
  },
  {
   "cell_type": "markdown",
   "id": "afb46087",
   "metadata": {},
   "source": [
    "### Detectar Idioma Predominante"
   ]
  },
  {
   "cell_type": "code",
   "execution_count": 7,
   "id": "54ec4e83",
   "metadata": {},
   "outputs": [
    {
     "name": "stdout",
     "output_type": "stream",
     "text": [
      "Idiomas Disponíveis:\n",
      "['arabic', 'azerbaijani', 'basque', 'bengali', 'catalan', 'chinese', 'danish', 'dutch', 'english', 'finnish', 'french', 'german', 'greek', 'hebrew', 'hinglish', 'hungarian', 'indonesian', 'italian', 'kazakh', 'nepali', 'norwegian', 'portuguese', 'romanian', 'russian', 'slovene', 'spanish', 'swedish', 'tajik', 'turkish']\n"
     ]
    }
   ],
   "source": [
    "# para detectar o idioma predominante usaremos as stopwords de todos idioma \n",
    "# obtendo stopwords em todos os idiomas\n",
    "dicionario_stopwords = {lang: set(nltk.corpus.stopwords.words(lang)) for lang in nltk.corpus.stopwords.fileids()}\n",
    "print(\"Idiomas Disponíveis:\")\n",
    "print(list(dicionario_stopwords.keys()))"
   ]
  },
  {
   "cell_type": "code",
   "execution_count": 8,
   "id": "64986f20",
   "metadata": {},
   "outputs": [
    {
     "name": "stdout",
     "output_type": "stream",
     "text": [
      "arabic: 57\n",
      "azerbaijani: 6\n",
      "catalan: 5\n",
      "danish: 7\n",
      "dutch: 6\n",
      "english: 468\n",
      "finnish: 1\n",
      "french: 13\n",
      "german: 9\n",
      "hinglish: 9397\n",
      "italian: 5\n",
      "portuguese: 4\n",
      "slovene: 8\n",
      "spanish: 14\n"
     ]
    }
   ],
   "source": [
    "def idiomas_serie(serie):\n",
    "    # score de cada idioma\n",
    "    i_score = [0 for i in dicionario_stopwords.keys()]\n",
    "    for i in range(serie.shape[0]):\n",
    "        # tokenizar as palavras\n",
    "        palavras = set(nltk.wordpunct_tokenize(serie.iloc[i].lower()))\n",
    "        # buscar o idioma com maior quantidade de stopwords em no conjunto de palavras\n",
    "        # assume-se que este idioma será o idioma da frase\n",
    "        lang = max(((lang, len(palavras & stopwords)) for lang, stopwords in dicionario_stopwords.items()),\n",
    "                   key = lambda x: x[1])[0]\n",
    "        i_score[list(dicionario_stopwords.keys()).index(lang)]+=1\n",
    "    # exibir scores\n",
    "    for i in range(len(i_score)):\n",
    "        if i_score[i]!=0:\n",
    "            print(f\"{list(dicionario_stopwords.keys())[i]}: {i_score[i]}\")\n",
    "idiomas_serie(comentarios)"
   ]
  },
  {
   "cell_type": "code",
   "execution_count": 9,
   "id": "47b9da0d",
   "metadata": {},
   "outputs": [],
   "source": [
    "# hinglish é uma variante da inglês com o hindi\n",
    "# para este projeto usaremos english e hinglish como equivalente e portanto a lingua predomintante é o inglês\n",
    "\n",
    "# função para filtrar os comentários em inglês\n",
    "def is_englesh(text):\n",
    "    # aplicar tokenização considerando pontuação\n",
    "    palavras = set(nltk.wordpunct_tokenize(text.lower()))\n",
    "    # contar o total de palavras tokenizadas considerando o dicionário de stopwords\n",
    "    lang = max(((lang, len(palavras & stopwords)) for lang, stopwords in dicionario_stopwords.items()), key = lambda x: x[1])[0]\n",
    "    # verificar o idioma\n",
    "    if lang == \"english\" or lang==\"hinglish\":\n",
    "        return True\n",
    "    else:\n",
    "        return False"
   ]
  },
  {
   "cell_type": "code",
   "execution_count": 10,
   "id": "e9c93153",
   "metadata": {},
   "outputs": [
    {
     "name": "stdout",
     "output_type": "stream",
     "text": [
      "Número de Comentários c/duplicatas: 9865\n",
      "Número de Comentários s/duplicatas: 9854\n"
     ]
    },
    {
     "data": {
      "text/plain": [
       "0    Our experience at Rancho Valencia was absolute...\n",
       "1    Amazing place. Everyone was extremely warm and...\n",
       "2    We booked a 3 night stay at Rancho Valencia to...\n",
       "3    Currently in bed writing this for the past hr ...\n",
       "4    I live in Md and the Aloft is my Home away fro...\n",
       "Name: reviews.text, dtype: object"
      ]
     },
     "execution_count": 10,
     "metadata": {},
     "output_type": "execute_result"
    }
   ],
   "source": [
    "# filtrar os comentários em inglês\n",
    "comentarios_eg = comentarios[comentarios.apply(is_englesh)]\n",
    "print(\"Número de Comentários c/duplicatas:\",comentarios_eg.shape[0])\n",
    "comentarios_eg.drop_duplicates(inplace=True)\n",
    "print(\"Número de Comentários s/duplicatas:\",comentarios_eg.shape[0])\n",
    "comentarios_eg.head()"
   ]
  },
  {
   "cell_type": "code",
   "execution_count": 11,
   "id": "2161c04f",
   "metadata": {},
   "outputs": [],
   "source": [
    "# carrando modelo para o processamento de linguagem natural em inglês\n",
    "# en_core_web_sm = English Core Web Small \n",
    "# modelo pequeno e leve que é treinado para tarefas básicas de processamento de linguagem natural em inglês\n",
    "# caso não tenha instalado, executar esta linha: !python -m spacy download en_core_web_sm\n",
    "nlp = spacy.load(\"en_core_web_sm\")"
   ]
  },
  {
   "cell_type": "code",
   "execution_count": 12,
   "id": "12b46fef",
   "metadata": {},
   "outputs": [],
   "source": [
    "# função para limpar comentários\n",
    "def limpa_comentarios(text):\n",
    "    # remover pontuação\n",
    "    regex = re.compile('['+re.escape(string.punctuation)+'\\\\r\\\\t\\\\n]')\n",
    "    # substituir pontuação por espaços em branco usando expressão regular\n",
    "    nopunct = regex.sub(\" \",str(text))\n",
    "    # lematizar - retornar as palavras conjugadas ou derivadas para sua forma base\n",
    "    # desativar parser(componentes de análise sintática) e ner(reconhecimento de entidade nomeada)\n",
    "    doc = nlp(nopunct, disable=['parser','ner'])\n",
    "    lemma = [token.lemma_ for token in doc]\n",
    "    return lemma"
   ]
  },
  {
   "cell_type": "code",
   "execution_count": 13,
   "id": "80feaab6",
   "metadata": {},
   "outputs": [],
   "source": [
    "comentarios_eg_lemmatized = comentarios_eg.map(limpa_comentarios)"
   ]
  },
  {
   "cell_type": "code",
   "execution_count": 14,
   "id": "36bbe578",
   "metadata": {},
   "outputs": [],
   "source": [
    "# colocar comentários em minúsculo\n",
    "comentarios_eg_lemmatized = comentarios_eg_lemmatized.map(lambda x: [word.lower() for word in x])"
   ]
  },
  {
   "cell_type": "code",
   "execution_count": 15,
   "id": "3d92cee0",
   "metadata": {},
   "outputs": [
    {
     "data": {
      "text/plain": [
       "0    [our, experience, at, rancho, valencia, be, ab...\n",
       "1    [amazing, place,  , everyone, be, extremely, w...\n",
       "2    [we, book, a, 3, night, stay, at, rancho, vale...\n",
       "3    [currently, in, bed, write, this, for, the, pa...\n",
       "4    [i, live, in, md, and, the, aloft, be, my, hom...\n",
       "Name: reviews.text, dtype: object"
      ]
     },
     "execution_count": 15,
     "metadata": {},
     "output_type": "execute_result"
    }
   ],
   "source": [
    "# palavras agrupadas por comentários\n",
    "comentarios_eg_lemmatized.head()"
   ]
  },
  {
   "cell_type": "code",
   "execution_count": 16,
   "id": "bd9f86ad",
   "metadata": {},
   "outputs": [],
   "source": [
    "# unindo todos os tokens em uma lista\n",
    "comentarios_tokens = [item for items in comentarios_eg_lemmatized\n",
    "                     for item in items]"
   ]
  },
  {
   "cell_type": "markdown",
   "id": "417ed7c6",
   "metadata": {},
   "source": [
    "### Estratégias para encontrar os collocations mais relevantes"
   ]
  },
  {
   "cell_type": "markdown",
   "id": "eb7b5f0c",
   "metadata": {},
   "source": [
    "Diferentes métricas podem ser utilizadas para calcular os ngramas mais relevantes.\n",
    "Neste projeto vamos testar 4 estrátegias e comparar seus resultados "
   ]
  },
  {
   "cell_type": "code",
   "execution_count": 17,
   "id": "7ccb3686",
   "metadata": {},
   "outputs": [],
   "source": [
    "# métrica de associação de bigramas e trigramas\n",
    "bigramas = nltk.collocations.BigramAssocMeasures()\n",
    "trigramas = nltk.collocations.TrigramAssocMeasures()"
   ]
  },
  {
   "cell_type": "code",
   "execution_count": 18,
   "id": "a11781d2",
   "metadata": {},
   "outputs": [],
   "source": [
    "# buscar bigramas e trigramas nos comentários\n",
    "buscarBigramas = nltk.collocations.BigramCollocationFinder.from_words(comentarios_tokens)\n",
    "buscarTrigramas = nltk.collocations.TrigramCollocationFinder.from_words(comentarios_tokens)"
   ]
  },
  {
   "cell_type": "markdown",
   "id": "b849081b",
   "metadata": {},
   "source": [
    "### Estratégia 1 - buscando bigramas e trigramas mais relevantes por frequência"
   ]
  },
  {
   "cell_type": "code",
   "execution_count": 19,
   "id": "6b3206b8",
   "metadata": {},
   "outputs": [],
   "source": [
    "# obtendo frequência dos bigramas\n",
    "bigrama_freq = buscarBigramas.ngram_fd.items()\n",
    "# criando dataframe com bigramas e suas frequências\n",
    "FreqTabBigramas = pd.DataFrame(list(bigrama_freq),\n",
    "                              columns = [\"Bigrama\",\"Freq\"]).sort_values(by=\"Freq\",ascending = False).reset_index(drop=True)\n",
    "# obtendo frequência dos trigramas\n",
    "trigrama_freq = buscarTrigramas.ngram_fd.items()\n",
    "# criando dataframe com trigramas e suas frequências\n",
    "FreqTabTrigramas = pd.DataFrame(list(trigrama_freq),\n",
    "                              columns = [\"Trigrama\",\"Freq\"]).sort_values(by=\"Freq\",ascending = False).reset_index(drop=True)"
   ]
  },
  {
   "cell_type": "code",
   "execution_count": 20,
   "id": "342ff2f7",
   "metadata": {},
   "outputs": [
    {
     "data": {
      "text/html": [
       "<div>\n",
       "<style scoped>\n",
       "    .dataframe tbody tr th:only-of-type {\n",
       "        vertical-align: middle;\n",
       "    }\n",
       "\n",
       "    .dataframe tbody tr th {\n",
       "        vertical-align: top;\n",
       "    }\n",
       "\n",
       "    .dataframe thead th {\n",
       "        text-align: right;\n",
       "    }\n",
       "</style>\n",
       "<table border=\"1\" class=\"dataframe\">\n",
       "  <thead>\n",
       "    <tr style=\"text-align: right;\">\n",
       "      <th></th>\n",
       "      <th>Bigrama</th>\n",
       "      <th>Freq</th>\n",
       "    </tr>\n",
       "  </thead>\n",
       "  <tbody>\n",
       "    <tr>\n",
       "      <th>0</th>\n",
       "      <td>( , the)</td>\n",
       "      <td>8734</td>\n",
       "    </tr>\n",
       "    <tr>\n",
       "      <th>1</th>\n",
       "      <td>( , i)</td>\n",
       "      <td>3662</td>\n",
       "    </tr>\n",
       "    <tr>\n",
       "      <th>2</th>\n",
       "      <td>( , we)</td>\n",
       "      <td>3412</td>\n",
       "    </tr>\n",
       "    <tr>\n",
       "      <th>3</th>\n",
       "      <td>(the, room)</td>\n",
       "      <td>3155</td>\n",
       "    </tr>\n",
       "    <tr>\n",
       "      <th>4</th>\n",
       "      <td>(room, be)</td>\n",
       "      <td>3052</td>\n",
       "    </tr>\n",
       "  </tbody>\n",
       "</table>\n",
       "</div>"
      ],
      "text/plain": [
       "       Bigrama  Freq\n",
       "0     ( , the)  8734\n",
       "1       ( , i)  3662\n",
       "2      ( , we)  3412\n",
       "3  (the, room)  3155\n",
       "4   (room, be)  3052"
      ]
     },
     "execution_count": 20,
     "metadata": {},
     "output_type": "execute_result"
    }
   ],
   "source": [
    "FreqTabBigramas.head(5)"
   ]
  },
  {
   "cell_type": "code",
   "execution_count": 21,
   "id": "47dd630a",
   "metadata": {},
   "outputs": [
    {
     "data": {
      "text/html": [
       "<div>\n",
       "<style scoped>\n",
       "    .dataframe tbody tr th:only-of-type {\n",
       "        vertical-align: middle;\n",
       "    }\n",
       "\n",
       "    .dataframe tbody tr th {\n",
       "        vertical-align: top;\n",
       "    }\n",
       "\n",
       "    .dataframe thead th {\n",
       "        text-align: right;\n",
       "    }\n",
       "</style>\n",
       "<table border=\"1\" class=\"dataframe\">\n",
       "  <thead>\n",
       "    <tr style=\"text-align: right;\">\n",
       "      <th></th>\n",
       "      <th>Trigrama</th>\n",
       "      <th>Freq</th>\n",
       "    </tr>\n",
       "  </thead>\n",
       "  <tbody>\n",
       "    <tr>\n",
       "      <th>0</th>\n",
       "      <td>(the, room, be)</td>\n",
       "      <td>1639</td>\n",
       "    </tr>\n",
       "    <tr>\n",
       "      <th>1</th>\n",
       "      <td>( , the, room)</td>\n",
       "      <td>1379</td>\n",
       "    </tr>\n",
       "    <tr>\n",
       "      <th>2</th>\n",
       "      <td>( , it, be)</td>\n",
       "      <td>1178</td>\n",
       "    </tr>\n",
       "    <tr>\n",
       "      <th>3</th>\n",
       "      <td>(the, staff, be)</td>\n",
       "      <td>1088</td>\n",
       "    </tr>\n",
       "    <tr>\n",
       "      <th>4</th>\n",
       "      <td>( , the, staff)</td>\n",
       "      <td>866</td>\n",
       "    </tr>\n",
       "  </tbody>\n",
       "</table>\n",
       "</div>"
      ],
      "text/plain": [
       "           Trigrama  Freq\n",
       "0   (the, room, be)  1639\n",
       "1    ( , the, room)  1379\n",
       "2       ( , it, be)  1178\n",
       "3  (the, staff, be)  1088\n",
       "4   ( , the, staff)   866"
      ]
     },
     "execution_count": 21,
     "metadata": {},
     "output_type": "execute_result"
    }
   ],
   "source": [
    "FreqTabTrigramas.head()"
   ]
  },
  {
   "cell_type": "code",
   "execution_count": 22,
   "id": "9a09a3cf",
   "metadata": {},
   "outputs": [],
   "source": [
    "# bigramas e trigramas ainda com muitas stopwords\n",
    "# vamos filtra-los por tipo de cada palavra\n",
    "en_stopwords = set(stopwords.words('english'))\n",
    "def filtrar_tipo_token_bigrama(ngram):\n",
    "    # verificar se é pronome\n",
    "    if '-pron-' in ngram or 't' in ngram:\n",
    "        return False\n",
    "    # verificar se uma ou mais palavras é uma stopword ou um espaço em branco\n",
    "    for word in ngram:\n",
    "        if word in en_stopwords or word.isspace():\n",
    "            return False\n",
    "    # tipos de token aceitáveis - adjetivos e substantivos\n",
    "    acceptable_types = ('JJ','JJR','JJS','NN','NNS','NNP','NNPS')\n",
    "    # subtipos\n",
    "    second_type = ('NN','NNS','NNP','NNPS')\n",
    "    # tag\n",
    "    tags = nltk.pos_tag(ngram)\n",
    "    # verificando se o bigrama segue o formato desejado\n",
    "    if tags[0][1] in acceptable_types and tags[1][1] in second_type:\n",
    "        return True\n",
    "    else:\n",
    "        return False\n",
    "def filtrar_tipo_token_trigrama(ngram):\n",
    "    # verificar se é pronome\n",
    "    if '-pron-' in ngram or 't' in ngram:\n",
    "        return False\n",
    "    # verificar se uma ou mais palavras é uma stopword ou um espaço em branco\n",
    "    for word in ngram:\n",
    "        if word in en_stopwords or word.isspace():\n",
    "            return False\n",
    "    # tipos de token aceitáveis - adjetivos e substantivos\n",
    "    acceptable_types = ('JJ','JJR','JJS','NN','NNS','NNP','NNPS')\n",
    "    # subtipos\n",
    "    second_type = ('JJ','JJR','JJS','NN','NNS','NNP','NNPS')\n",
    "    # tag\n",
    "    tags = nltk.pos_tag(ngram)\n",
    "    # verificando se o trigrama segue o formato desejado\n",
    "    if tags[0][1] in acceptable_types and tags[2][1] in second_type:\n",
    "        return True\n",
    "    else:\n",
    "        return False"
   ]
  },
  {
   "cell_type": "code",
   "execution_count": null,
   "id": "e8c2f412",
   "metadata": {},
   "outputs": [],
   "source": [
    "# filtrar bigramas\n",
    "bigramas_filtrados = FreqTabBigramas[FreqTabBigramas.Bigrama.map(lambda x: filtrar_tipo_token_bigrama(x))].reset_index(drop=True)\n",
    "# filtrar trigramas\n",
    "trigramas_filtrados = FreqTabTrigramas[FreqTabTrigramas.Trigrama.map(lambda x: filtrar_tipo_token_trigrama(x))].reset_index(drop=True)"
   ]
  },
  {
   "cell_type": "code",
   "execution_count": null,
   "id": "b2b4198f",
   "metadata": {},
   "outputs": [],
   "source": [
    "# bigramas mais relevantes por frequência\n",
    "bigramas_filtrados.head(5)"
   ]
  },
  {
   "cell_type": "code",
   "execution_count": null,
   "id": "4af990d2",
   "metadata": {},
   "outputs": [],
   "source": [
    "# trigramas mais relevantes por frequência\n",
    "trigramas_filtrados.head(5)"
   ]
  },
  {
   "cell_type": "markdown",
   "id": "4b957709",
   "metadata": {},
   "source": [
    "### Estratégia 2 - relevância nos comentários por PMI  (Pointwise Mutual Information)"
   ]
  },
  {
   "cell_type": "code",
   "execution_count": null,
   "id": "b728e01f",
   "metadata": {},
   "outputs": [],
   "source": [
    "# somente os ngramas com 20 ou mais ocorrências\n",
    "buscarBigramas.apply_freq_filter(20)\n",
    "buscarTrigramas.apply_freq_filter(20)"
   ]
  },
  {
   "cell_type": "code",
   "execution_count": null,
   "id": "327206b4",
   "metadata": {},
   "outputs": [],
   "source": [
    "# criando tabela de bigramas e trigramas com sua pontuação PMI\n",
    "PMITabBigramas = pd.DataFrame(list(buscarBigramas.score_ngrams(bigramas.pmi)),\n",
    "                             columns = [\"Bigrama\",\"PMI\"]).sort_values(by=\"PMI\",ascending=False)\n",
    "PMITabTrigramas = pd.DataFrame(list(buscarTrigramas.score_ngrams(trigramas.pmi)),\n",
    "                             columns = [\"Trigrama\",\"PMI\"]).sort_values(by=\"PMI\",ascending=False)"
   ]
  },
  {
   "cell_type": "code",
   "execution_count": null,
   "id": "f36e300f",
   "metadata": {},
   "outputs": [],
   "source": [
    "# bigramas mais relevantes por PMI\n",
    "PMITabBigramas.head(5)"
   ]
  },
  {
   "cell_type": "code",
   "execution_count": null,
   "id": "99a863d5",
   "metadata": {},
   "outputs": [],
   "source": [
    "# trigramas mais relevantes por PMI\n",
    "PMITabTrigramas.head(5)"
   ]
  },
  {
   "cell_type": "markdown",
   "id": "a08fc5de",
   "metadata": {},
   "source": [
    "### Estratégia 3 - Teste-t"
   ]
  },
  {
   "cell_type": "code",
   "execution_count": null,
   "id": "3db2b52a",
   "metadata": {},
   "outputs": [],
   "source": [
    "# criando tabela de bigramas e trigramas com sua pontuação no Teste-t\n",
    "TestetTabBigramas = pd.DataFrame(list(buscarBigramas.score_ngrams(bigramas.student_t)),\n",
    "                             columns = [\"Bigrama\",\"Teste-t\"]).sort_values(by=\"Teste-t\",ascending=False)\n",
    "TestetTabTrigramas = pd.DataFrame(list(buscarTrigramas.score_ngrams(trigramas.student_t)),\n",
    "                             columns = [\"Trigrama\",\"Teste-t\"]).sort_values(by=\"Teste-t\",ascending=False)\n",
    "\n",
    "bigramas_t_filtrados = TestetTabBigramas[TestetTabBigramas.Bigrama.map(lambda x:filtrar_tipo_token_bigrama(x))]\n",
    "trigramas_t_filtrados = TestetTabTrigramas[TestetTabTrigramas.Trigrama.map(lambda x:filtrar_tipo_token_trigrama(x))]"
   ]
  },
  {
   "cell_type": "code",
   "execution_count": null,
   "id": "fc28f48b",
   "metadata": {},
   "outputs": [],
   "source": [
    "# bigramas mais relevantes por Teste-t\n",
    "bigramas_t_filtrados.head(5)"
   ]
  },
  {
   "cell_type": "code",
   "execution_count": null,
   "id": "74c1a2e4",
   "metadata": {},
   "outputs": [],
   "source": [
    "# trigramas mais relevantes por Teste-t\n",
    "trigramas_t_filtrados.head(5)"
   ]
  },
  {
   "cell_type": "markdown",
   "id": "edf869cc",
   "metadata": {},
   "source": [
    "### Estratégia 4 - qui-quadrado"
   ]
  },
  {
   "cell_type": "code",
   "execution_count": null,
   "id": "0b0df733",
   "metadata": {},
   "outputs": [],
   "source": [
    "# criando tabela de bigramas e trigramas com sua pontuação no qui-quadrado\n",
    "TestetTabBigramas = pd.DataFrame(list(buscarBigramas.score_ngrams(bigramas.chi_sq)),\n",
    "                             columns = [\"Bigrama\",\"Qui\"]).sort_values(by=\"Qui\",ascending=False)\n",
    "TestetTabTrigramas = pd.DataFrame(list(buscarTrigramas.score_ngrams(trigramas.chi_sq)),\n",
    "                             columns = [\"Trigrama\",\"Qui\"]).sort_values(by=\"Qui\",ascending=False)\n",
    "bigramas_qui_filtrados = TestetTabBigramas[TestetTabBigramas.Bigrama.map(lambda x:filtrar_tipo_token_bigrama(x))]\n",
    "trigramas_qui_filtrados = TestetTabTrigramas[TestetTabTrigramas.Trigrama.map(lambda x:filtrar_tipo_token_trigrama(x))]"
   ]
  },
  {
   "cell_type": "code",
   "execution_count": null,
   "id": "e6900f50",
   "metadata": {},
   "outputs": [],
   "source": [
    "# bigramas mais relevantes por qui-quadrado\n",
    "bigramas_qui_filtrados.head(5)"
   ]
  },
  {
   "cell_type": "code",
   "execution_count": null,
   "id": "c103af92",
   "metadata": {
    "scrolled": true
   },
   "outputs": [],
   "source": [
    "# trigramas mais relevantes por qui-quadrado\n",
    "trigramas_qui_filtrados.head(5)"
   ]
  },
  {
   "cell_type": "markdown",
   "id": "20a1c0c3",
   "metadata": {},
   "source": [
    "### Comparando Estratégias"
   ]
  },
  {
   "cell_type": "code",
   "execution_count": null,
   "id": "54f943a3",
   "metadata": {},
   "outputs": [],
   "source": [
    "# obtendo top10 bigramas e trigramas mais relevantes em cada estratégia \n",
    "metodo1_bigrama = bigramas_filtrados[:10].Bigrama.values\n",
    "metodo2_bigrama = PMITabBigramas[:10].Bigrama.values\n",
    "metodo3_bigrama = bigramas_t_filtrados[:10].Bigrama.values\n",
    "metodo4_bigrama = bigramas_qui_filtrados[:10].Bigrama.values\n",
    "\n",
    "metodo1_trigrama = trigramas_filtrados[:10].Trigrama.values\n",
    "metodo2_trigrama = PMITabTrigramas[:10].Trigrama.values\n",
    "metodo3_trigrama = trigramas_t_filtrados[:10].Trigrama.values\n",
    "metodo4_trigrama = trigramas_qui_filtrados[:10].Trigrama.values"
   ]
  },
  {
   "cell_type": "code",
   "execution_count": null,
   "id": "d38be2dd",
   "metadata": {},
   "outputs": [],
   "source": [
    "# top 10 bigramas nas 4 estratégias\n",
    "comparaBigramas = pd.DataFrame([metodo1_bigrama,metodo2_bigrama,metodo3_bigrama,metodo4_bigrama]).T\n",
    "comparaBigramas.columns = [\"Frequência\",\"PMI\",\"Teste-t\",\"Teste Qui-quadrado\"]\n",
    "comparaBigramas"
   ]
  },
  {
   "cell_type": "code",
   "execution_count": null,
   "id": "e576fe82",
   "metadata": {
    "scrolled": true
   },
   "outputs": [],
   "source": [
    "# top 10 trigramas nas 4 estratégias\n",
    "comparaTrigramas = pd.DataFrame([metodo1_trigrama,metodo2_trigrama,metodo3_trigrama,metodo4_trigrama]).T\n",
    "comparaTrigramas.columns = [\"Frequência\",\"PMI\",\"Teste-t\",\"Teste Qui-quadrado\"]\n",
    "comparaTrigramas"
   ]
  },
  {
   "cell_type": "markdown",
   "id": "ae744d2c",
   "metadata": {},
   "source": [
    "### Conclusão:\n",
    "\n",
    "Podemos ver que os métodos PMI e Qui-quadrado fornecem bons resultados. Seus resultados também são semelhantes. \n",
    "Mas os métodos de Frequência e Teste-t apresentam os melhores resutados e identicos.\n",
    "\n",
    "Em aplicativos reais, podemos observar a lista e definir um limite em um valor a partir de quando a lista para de fazer sentido. Também podemos fazer testes diferentes para ver qual lista parece fazer mais sentido para um determinado conjunto de dados. \n",
    "\n",
    "Como alternativa, podemos combinar resultados de várias listas. Uma boa escolha é multiplicar o PMI e a Frequência para levar em consideração o aumento da probabilidade e a frequência da ocorrência. Ou multiplicar a frequência pelo Teste-t criando assim um índice único de relevância das Collocations.\n",
    "\n",
    "Para este projeto, vamos considerar as Collocations calculadas por Frequência como as mais relevantes. A escolha se deve ao fato de que as suposições para o Teste-t não foram validadas e usar seu resultado seria inadequado."
   ]
  }
 ],
 "metadata": {
  "kernelspec": {
   "display_name": "Python 3",
   "language": "python",
   "name": "python3"
  },
  "language_info": {
   "codemirror_mode": {
    "name": "ipython",
    "version": 3
   },
   "file_extension": ".py",
   "mimetype": "text/x-python",
   "name": "python",
   "nbconvert_exporter": "python",
   "pygments_lexer": "ipython3",
   "version": "3.8.8"
  }
 },
 "nbformat": 4,
 "nbformat_minor": 5
}
